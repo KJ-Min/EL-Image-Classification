{
 "cells": [
  {
   "cell_type": "code",
   "execution_count": 4,
   "metadata": {},
   "outputs": [
    {
     "name": "stdout",
     "output_type": "stream",
     "text": [
      "['checkpoints', 'execute.ipynb', 'model.py', 'run.py', 'term_project_train_data', 'test.py', 'train.py', 'utils', '__pycache__']\n"
     ]
    }
   ],
   "source": [
    "import os\n",
    "print(os.listdir('.'))"
   ]
  },
  {
   "cell_type": "code",
   "execution_count": 6,
   "metadata": {},
   "outputs": [
    {
     "name": "stdout",
     "output_type": "stream",
     "text": [
      "==============================\n",
      "Save path: checkpoints/\n",
      "Using Device: cuda:0\n",
      "Number of usable GPUs: 1\n",
      "Batch_size: 64\n",
      "learning_rate: 0.1\n",
      "Epochs: 5\n",
      "==============================\n"
     ]
    },
    {
     "name": "stderr",
     "output_type": "stream",
     "text": [
      "Traceback (most recent call last):\n",
      "  File \"e:\\STUDY\\Python\\딥러닝(정우환)\\TermProject\\SkeletonCode\\train.py\", line 92, in <module>\n",
      "    train_loader, _ = make_data_loader(args)\n",
      "                      ^^^^^^^^^^^^^^^^^^^^^^\n",
      "  File \"e:\\STUDY\\Python\\딥러닝(정우환)\\TermProject\\SkeletonCode\\utils\\_utils.py\", line 18, in make_data_loader\n",
      "    dataset = datasets.ImageFolder(args.data, transform=custom_transform)\n",
      "              ^^^^^^^^^^^^^^^^^^^^^^^^^^^^^^^^^^^^^^^^^^^^^^^^^^^^^^^^^^^\n",
      "  File \"e:\\new_anaconda3\\envs\\DL\\Lib\\site-packages\\torchvision\\datasets\\folder.py\", line 328, in __init__\n",
      "    super().__init__(\n",
      "  File \"e:\\new_anaconda3\\envs\\DL\\Lib\\site-packages\\torchvision\\datasets\\folder.py\", line 149, in __init__\n",
      "    classes, class_to_idx = self.find_classes(self.root)\n",
      "                            ^^^^^^^^^^^^^^^^^^^^^^^^^^^^\n",
      "  File \"e:\\new_anaconda3\\envs\\DL\\Lib\\site-packages\\torchvision\\datasets\\folder.py\", line 234, in find_classes\n",
      "    return find_classes(directory)\n",
      "           ^^^^^^^^^^^^^^^^^^^^^^^\n",
      "  File \"e:\\new_anaconda3\\envs\\DL\\Lib\\site-packages\\torchvision\\datasets\\folder.py\", line 41, in find_classes\n",
      "    classes = sorted(entry.name for entry in os.scandir(directory) if entry.is_dir())\n",
      "                                             ^^^^^^^^^^^^^^^^^^^^^\n",
      "FileNotFoundError: [WinError 3] 지정된 경로를 찾을 수 없습니다: 'data/'\n"
     ]
    }
   ],
   "source": [
    "!python train.py"
   ]
  }
 ],
 "metadata": {
  "kernelspec": {
   "display_name": "DL",
   "language": "python",
   "name": "python3"
  },
  "language_info": {
   "codemirror_mode": {
    "name": "ipython",
    "version": 3
   },
   "file_extension": ".py",
   "mimetype": "text/x-python",
   "name": "python",
   "nbconvert_exporter": "python",
   "pygments_lexer": "ipython3",
   "version": "3.12.4"
  }
 },
 "nbformat": 4,
 "nbformat_minor": 2
}
